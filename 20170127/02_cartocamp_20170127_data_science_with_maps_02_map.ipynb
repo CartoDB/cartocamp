{
 "cells": [
  {
   "cell_type": "markdown",
   "metadata": {},
   "source": [
    "# Creating Carto Maps Programmatically"
   ]
  },
  {
   "cell_type": "code",
   "execution_count": 20,
   "metadata": {
    "collapsed": false
   },
   "outputs": [],
   "source": [
    "import json\n",
    "import os\n",
    "\n",
    "cred = json.load(open('credentials.json')) # modify credentials.json.sample\n",
    "\n",
    "username = cred['username']\n",
    "api_key  = cred['api_key']"
   ]
  },
  {
   "cell_type": "code",
   "execution_count": 74,
   "metadata": {
    "collapsed": true
   },
   "outputs": [],
   "source": [
    "mapconfig_text = '''{\n",
    "  \"version\": \"0.0.1\",\n",
    "  \"name\": \"%s\",\n",
    "  \"auth\": {\n",
    "    \"method\": \"open\"\n",
    "  },\n",
    "  \"layergroup\": {\n",
    "    \"layers\": [{\n",
    "      \"type\": \"mapnik\",\n",
    "      \"options\": {\n",
    "        \"cartocss_version\": \"2.1.1\",\n",
    "        \"cartocss\": \"%s\",\n",
    "        \"sql\": \"%s\"\n",
    "      }\n",
    "    }]\n",
    "  }\n",
    "}'''\n",
    "\n",
    "map_table = 'yellow_pickups_by_tract_2015_04_15_n_3000'\n",
    "map_name  = 'taxi_test1'\n",
    "map_css   = '#layer {polygon-fill: ramp([count_pickup], (#fbe6c5, #f2a28a, #dc7176, #b24b65, #70284a), quantiles); line-width: 1; line-color: #FFF; line-opacity: 0.5;}'\n",
    "map_sql   = 'select * from '+map_table"
   ]
  },
  {
   "cell_type": "code",
   "execution_count": 75,
   "metadata": {
    "collapsed": false
   },
   "outputs": [],
   "source": [
    "text_file = open(\"mapconfig.json\", \"w\")\n",
    "text_file.write(mapconfig_text % (map_name, map_css, map_sql))\n",
    "text_file.close()"
   ]
  },
  {
   "cell_type": "code",
   "execution_count": 76,
   "metadata": {
    "collapsed": false
   },
   "outputs": [
    {
     "name": "stdout",
     "output_type": "stream",
     "text": [
      "curl -X POST -H 'Content-Type: application/json' -d @mapconfig.json 'https://sheehan-carto.carto.com/api/v1/map/named?api_key=6f74410ee81d7db76ccd338768a6790910a0c920'\n"
     ]
    }
   ],
   "source": [
    "sendmapconfig = \"curl -X POST -H 'Content-Type: application/json' -d @mapconfig.json 'https://%s.carto.com/api/v1/map/named?api_key=%s'\" % (username, api_key)\n",
    "\n",
    "print sendmapconfig\n",
    "\n",
    "#os.system(sendmapconfig"
   ]
  },
  {
   "cell_type": "code",
   "execution_count": 77,
   "metadata": {
    "collapsed": false
   },
   "outputs": [
    {
     "name": "stdout",
     "output_type": "stream",
     "text": [
      "curl -X POST -H 'Content-Type: application/json' -d @params.json 'https://sheehan-carto.carto.com/api/v1/map/named/taxi_test1?auth_token=6f74410ee81d7db76ccd338768a6790910a0c920'\n"
     ]
    }
   ],
   "source": [
    "sendmapconfig = \"curl -X POST -H 'Content-Type: application/json' -d @params.json 'https://%s.carto.com/api/v1/map/named/%s?auth_token=%s'\" % (username, map_name, api_key)\n",
    "\n",
    "print sendmapconfig"
   ]
  },
  {
   "cell_type": "code",
   "execution_count": null,
   "metadata": {
    "collapsed": true
   },
   "outputs": [],
   "source": [
    "r = requests.post(url, data=json.dumps(data), headers=headers, auth=('user', 'pass'))\n"
   ]
  },
  {
   "cell_type": "code",
   "execution_count": 87,
   "metadata": {
    "collapsed": false
   },
   "outputs": [],
   "source": [
    "html_text = '''<!DOCTYPE html>\n",
    "    <html>\n",
    "      <head>\n",
    "        <title>Named Map with Interactivity | CartoDB.js</title>\n",
    "        <meta name=\"viewport\" content=\"initial-scale=1.0, user-scalable=no\" />\n",
    "        <meta http-equiv=\"content-type\" content=\"text/html; charset=UTF-8\"/>\n",
    "        <link rel=\"shortcut icon\" href=\"http://cartodb.com/assets/favicon.ico\" />\n",
    "        <style>\n",
    "          html, body, #map {height: 100%;\n",
    "            padding: 0;\n",
    "            margin: 0;\n",
    "          }\n",
    "        </style>\n",
    "\n",
    "        <link rel=\"stylesheet\" href=\"http://libs.cartocdn.com/cartodb.js/v3/themes/css/cartodb.css\" />\n",
    "        <!--[if lte IE 8]>\n",
    "            <link rel=\"stylesheet\" href=\"http://libs.cartocdn.com/cartodb.js/v3/themes/css/cartodb.ie.css\" />\n",
    "        <![endif]-->\n",
    "\n",
    "      </head>\n",
    "      <body>\n",
    "        <div id=\"map\"></div>\n",
    "\n",
    "        <!-- include cartodb.js library -->\n",
    "        <script src=\"http://libs.cartocdn.com/cartodb.js/v3/cartodb.js\"></script>\n",
    "        <script>\n",
    "\n",
    "          function main() {\n",
    "\n",
    "            // create leaflet map\n",
    "            var map = L.map('map', { \n",
    "              zoomControl: false,\n",
    "              scrollWheelZoom: false,\n",
    "              center: [40.7127, -74.0059],\n",
    "              zoomControl: true,\n",
    "              zoom: 12\n",
    "            })\n",
    "\n",
    "            // add a base layer\n",
    "            L.tileLayer('http://{s}.basemaps.cartocdn.com/light_all/{z}/{x}/{y}.png', {\n",
    "              attribution: 'Carto'\n",
    "            }).addTo(map);\n",
    "\n",
    "            // add cartodb layer with one sublayer\n",
    "            cartodb.createLayer(map, {\n",
    "              user_name: \"'''+username+'''\",\n",
    "              type: 'namedmap',\n",
    "              named_map: {\n",
    "                 name: \"'''+map_name+'''\",\n",
    "                  layers: [{\n",
    "                      layer_name: \"layer0\",\n",
    "                      interactivity: \"cartodb_id\"\n",
    "                  }]\n",
    "              }\n",
    "            })\n",
    "            .addTo(map)\n",
    "            .done(function(layer) {\n",
    "\n",
    "              layer.getSubLayer(0).setInteraction(true)\n",
    "              layer.getSubLayer(0).on('featureOver', function(e, pos, pixel, data) {\n",
    "                console.log(\"Event #\" + data.cartodb_id);\n",
    "                // alert(\"Event #\" + data.cartodb_id + \", magnitude \" + data.mag);\n",
    "              });\n",
    "              cdb.vis.Vis.addInfowindow(map, layer.getSubLayer(0), ['cartodb_id'])\n",
    "            });\n",
    "\n",
    "\n",
    "          }\n",
    "\n",
    "          // you could use $(window).load(main);\n",
    "          window.onload = main; \n",
    "\n",
    "        </script>\n",
    "\n",
    "      </body>\n",
    "    </html>'''"
   ]
  },
  {
   "cell_type": "code",
   "execution_count": 88,
   "metadata": {
    "collapsed": false
   },
   "outputs": [],
   "source": [
    "text_file = open(\"index.html\", \"w\")\n",
    "text_file.write(html_text)\n",
    "text_file.close()"
   ]
  },
  {
   "cell_type": "markdown",
   "metadata": {},
   "source": [
    "[Links for Carto basemaps](http://bl.ocks.org/Xatpy/854297419bd7eb3421d0)"
   ]
  },
  {
   "cell_type": "code",
   "execution_count": 89,
   "metadata": {
    "collapsed": false
   },
   "outputs": [
    {
     "data": {
      "text/html": [
       "<iframe width=\"100%\" height=\"520\" frameborder=\"0\" src=\"index.html?sql=hdfsdfds&css=hjdsfdsfsduername&key=\" allowfullscreen webkitallowfullscreen mozallowfullscreen oallowfullscreen msallowfullscreen></iframe>"
      ],
      "text/plain": [
       "<IPython.core.display.HTML object>"
      ]
     },
     "metadata": {},
     "output_type": "display_data"
    }
   ],
   "source": [
    "from IPython.display import display, HTML\n",
    "display(HTML('<iframe width=\"100%\" height=\"520\" frameborder=\"0\" src=\"index.html?sql=hdfsdfds&css=hjdsfdsfsduername&key=\" allowfullscreen webkitallowfullscreen mozallowfullscreen oallowfullscreen msallowfullscreen></iframe>'))"
   ]
  },
  {
   "cell_type": "code",
   "execution_count": null,
   "metadata": {
    "collapsed": true
   },
   "outputs": [],
   "source": []
  }
 ],
 "metadata": {
  "kernelspec": {
   "display_name": "Python 2",
   "language": "python",
   "name": "python2"
  },
  "language_info": {
   "codemirror_mode": {
    "name": "ipython",
    "version": 2
   },
   "file_extension": ".py",
   "mimetype": "text/x-python",
   "name": "python",
   "nbconvert_exporter": "python",
   "pygments_lexer": "ipython2",
   "version": "2.7.10"
  }
 },
 "nbformat": 4,
 "nbformat_minor": 2
}
