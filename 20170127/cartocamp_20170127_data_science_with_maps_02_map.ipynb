{
 "cells": [
  {
   "cell_type": "markdown",
   "metadata": {},
   "source": [
    "# Creating Carto Maps Programmatically"
   ]
  },
  {
   "cell_type": "code",
   "execution_count": 16,
   "metadata": {
    "collapsed": false
   },
   "outputs": [],
   "source": [
    "import json\n",
    "import os\n",
    "\n",
    "cred = json.load(open('credentials.json')) # modify credentials.json.sample\n",
    "\n",
    "username = cred['username']\n",
    "api_key  = cred['api_key']"
   ]
  },
  {
   "cell_type": "code",
   "execution_count": 17,
   "metadata": {
    "collapsed": true
   },
   "outputs": [],
   "source": [
    "mapconfig_text = '''{\n",
    "  \"version\": \"0.0.1\",\n",
    "  \"name\": \"%s\",\n",
    "  \"auth\": {\n",
    "    \"method\": \"open\"\n",
    "  },\n",
    "  \"layergroup\": {\n",
    "    \"layers\": [{\n",
    "      \"type\": \"mapnik\",\n",
    "      \"options\": {\n",
    "        \"cartocss_version\": \"2.1.1\",\n",
    "        \"cartocss\": \"%s\",\n",
    "        \"sql\": \"%s\"\n",
    "      }\n",
    "    }]\n",
    "  }\n",
    "}'''\n",
    "\n",
    "map_table = 'yellow_pickups_by_tract_2015_04_15_n_3000'\n",
    "map_name  = 'taxi_test1'\n",
    "map_css   = '#layer { polygon-fill: #FFF; }'\n",
    "map_sql   = 'select * from '+map_table"
   ]
  },
  {
   "cell_type": "code",
   "execution_count": 18,
   "metadata": {
    "collapsed": false
   },
   "outputs": [],
   "source": [
    "text_file = open(\"mapconfig.json\", \"w\")\n",
    "text_file.write(mapconfig_text % (map_nam, map_css, map_sql))\n",
    "text_file.close()"
   ]
  },
  {
   "cell_type": "code",
   "execution_count": 19,
   "metadata": {
    "collapsed": false
   },
   "outputs": [
    {
     "data": {
      "text/plain": [
       "0"
      ]
     },
     "execution_count": 19,
     "metadata": {},
     "output_type": "execute_result"
    }
   ],
   "source": [
    "os.system(\"curl -X POST -H 'Content-Type: application/json' -d @mapconfig.json 'https://%s.carto.com/api/v1/map/named?api_key=%s'\" % (username, api_key))\n",
    "r#reqeusts\n"
   ]
  },
  {
   "cell_type": "code",
   "execution_count": null,
   "metadata": {
    "collapsed": true
   },
   "outputs": [],
   "source": [
    "r = requests.post(url, data=json.dumps(data), headers=headers, auth=('user', 'pass'))\n"
   ]
  },
  {
   "cell_type": "code",
   "execution_count": null,
   "metadata": {
    "collapsed": true
   },
   "outputs": [],
   "source": []
  },
  {
   "cell_type": "code",
   "execution_count": null,
   "metadata": {
    "collapsed": true
   },
   "outputs": [],
   "source": [
    "[Links for Carto basemaps](http://bl.ocks.org/Xatpy/854297419bd7eb3421d0)"
   ]
  },
  {
   "cell_type": "code",
   "execution_count": 1,
   "metadata": {
    "collapsed": false
   },
   "outputs": [
    {
     "data": {
      "text/html": [
       "<iframe width=\"100%\" height=\"520\" frameborder=\"0\" src=\"index.html?sql=hdfsdfds&css=hjdsfdsfsduername&key=\" allowfullscreen webkitallowfullscreen mozallowfullscreen oallowfullscreen msallowfullscreen></iframe>"
      ],
      "text/plain": [
       "<IPython.core.display.HTML object>"
      ]
     },
     "metadata": {},
     "output_type": "display_data"
    }
   ],
   "source": [
    "from IPython.display import display, HTML\n",
    "display(HTML('<iframe width=\"100%\" height=\"520\" frameborder=\"0\" src=\"index.html?sql=hdfsdfds&css=hjdsfdsfsduername&key=\" allowfullscreen webkitallowfullscreen mozallowfullscreen oallowfullscreen msallowfullscreen></iframe>'))"
   ]
  },
  {
   "cell_type": "code",
   "execution_count": null,
   "metadata": {
    "collapsed": true
   },
   "outputs": [],
   "source": []
  }
 ],
 "metadata": {
  "kernelspec": {
   "display_name": "Python 2",
   "language": "python",
   "name": "python2"
  },
  "language_info": {
   "codemirror_mode": {
    "name": "ipython",
    "version": 2
   },
   "file_extension": ".py",
   "mimetype": "text/x-python",
   "name": "python",
   "nbconvert_exporter": "python",
   "pygments_lexer": "ipython2",
   "version": "2.7.10"
  }
 },
 "nbformat": 4,
 "nbformat_minor": 2
}
