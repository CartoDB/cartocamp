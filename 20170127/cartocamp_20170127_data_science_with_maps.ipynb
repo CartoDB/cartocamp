{
 "cells": [
  {
   "cell_type": "code",
   "execution_count": null,
   "metadata": {
    "collapsed": true
   },
   "outputs": [],
   "source": []
  },
  {
   "cell_type": "markdown",
   "metadata": {},
   "source": [
    "### Create a Virtual Environment\n",
    "Create a folder in the current directory which will contain the Python executable files, and a copy of the pip library which you can use to install other packages. \n",
    "\n",
    "\tvirtualenv env\n",
    "\n",
    "Activate Virtual Env.\n",
    "\n",
    "\tsource env/bin/activate\n",
    "\t\n",
    "Install Pandas OR maybe add REQUIREMENTS.txt\n",
    "    \n",
    "    pip install jupyter\n",
    "    pip install pandas\n",
    "\tpip install requests\n",
    "    pip install ipykernel\n",
    "    pip install cartodb\n",
    "    "
   ]
  },
  {
   "cell_type": "code",
   "execution_count": 3,
   "metadata": {
    "collapsed": false
   },
   "outputs": [
    {
     "ename": "ImportError",
     "evalue": "No module named pandas",
     "output_type": "error",
     "traceback": [
      "\u001b[0;31m---------------------------------------------------------------------------\u001b[0m",
      "\u001b[0;31mImportError\u001b[0m                               Traceback (most recent call last)",
      "\u001b[0;32m<ipython-input-3-274110ea9ec4>\u001b[0m in \u001b[0;36m<module>\u001b[0;34m()\u001b[0m\n\u001b[1;32m      1\u001b[0m \u001b[0;32mimport\u001b[0m \u001b[0mjson\u001b[0m\u001b[0;34m\u001b[0m\u001b[0m\n\u001b[0;32m----> 2\u001b[0;31m \u001b[0;32mimport\u001b[0m \u001b[0mpandas\u001b[0m \u001b[0;32mas\u001b[0m \u001b[0mpd\u001b[0m\u001b[0;34m\u001b[0m\u001b[0m\n\u001b[0m\u001b[1;32m      3\u001b[0m \u001b[0;32mimport\u001b[0m \u001b[0mrequests\u001b[0m\u001b[0;34m\u001b[0m\u001b[0m\n\u001b[1;32m      4\u001b[0m \u001b[0;32mimport\u001b[0m \u001b[0mio\u001b[0m\u001b[0;34m\u001b[0m\u001b[0m\n\u001b[1;32m      5\u001b[0m \u001b[0;31m# modify credentials.json.sample\u001b[0m\u001b[0;34m\u001b[0m\u001b[0;34m\u001b[0m\u001b[0m\n",
      "\u001b[0;31mImportError\u001b[0m: No module named pandas"
     ]
    }
   ],
   "source": [
    "import json\n",
    "import pandas as pd \n",
    "import requests\n",
    "import io\n",
    "# modify credentials.json.sample\n",
    "cred = json.load(open('credentials.json'))\n",
    "\n",
    "username = cred['username']\n",
    "api_key  = cred['api_key']\n",
    "\n",
    "#input_data_url = 'https://team.carto.com/u/sheehan-carto/dataset/yellow_tripdata_2015_04_verysmall'\n",
    "\n",
    "username1  = 'sheehan-carto'\n",
    "tablename = 'yellow_tripdata_2015_04_verysmall'\n",
    "\n",
    "#url = \"http://\"+cartodb_domain+\".cartodb.com/api/v2/sql?q=SELECT%20*%20FROM%20\"+tablename+\"&format=csv&api_key=\"+API_KEY\n",
    "\n",
    "data_url = \"https://%s.carto.com/api/v2/sql?q=SELECT * FROM %s&format=csv\" % (username1 , tablename)\n",
    "data_url = 'https://sheehan-carto.carto.com/api/v2/sql?q=SELECT * FROM yellow_tripdata_2015_04_verysmall&format=csv'\n",
    "print data_url\n",
    "\n",
    "url=data_url\n",
    "s=requests.get(url).content\n",
    "df=pd.read_csv(io.StringIO(s.decode('utf-8')))\n",
    "\n",
    "#df = pd.read_csv(data_url)\n",
    "\n",
    "print df.head(10)\n"
   ]
  },
  {
   "cell_type": "code",
   "execution_count": null,
   "metadata": {
    "collapsed": true
   },
   "outputs": [],
   "source": []
  }
 ],
 "metadata": {
  "kernelspec": {
   "display_name": "Python 2",
   "language": "python",
   "name": "python2"
  },
  "language_info": {
   "codemirror_mode": {
    "name": "ipython",
    "version": 2
   },
   "file_extension": ".py",
   "mimetype": "text/x-python",
   "name": "python",
   "nbconvert_exporter": "python",
   "pygments_lexer": "ipython2",
   "version": "2.7.10"
  }
 },
 "nbformat": 4,
 "nbformat_minor": 0
}
