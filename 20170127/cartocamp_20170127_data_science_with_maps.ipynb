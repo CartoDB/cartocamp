{
 "cells": [
  {
   "cell_type": "code",
   "execution_count": 3,
   "metadata": {
    "collapsed": true
   },
   "outputs": [],
   "source": [
    "import warnings\n",
    "warnings.filterwarnings('ignore')"
   ]
  },
  {
   "cell_type": "markdown",
   "metadata": {},
   "source": [
    "### Create a Virtual Environment\n",
    "Create a folder in the current directory which will contain the Python executable files, and a copy of the pip library which you can use to install other packages. \n",
    "\n",
    "\tvirtualenv env\n",
    "\n",
    "Activate Virtual Env.\n",
    "\n",
    "\tsource env/bin/activate\n",
    "\t\n",
    "Install Pandas OR maybe add REQUIREMENTS.txt\n",
    "    \n",
    "    pip install jupyter\n",
    "    pip install pandas\n",
    "\tpip install requests\n",
    "    pip install ipykernel\n",
    "\n",
    "    "
   ]
  },
  {
   "cell_type": "markdown",
   "metadata": {},
   "source": [
    "### Getting a Dataframe from Carto's SQL API "
   ]
  },
  {
   "cell_type": "code",
   "execution_count": 25,
   "metadata": {
    "collapsed": false
   },
   "outputs": [
    {
     "name": "stdout",
     "output_type": "stream",
     "text": [
      "   cartodb_id  the_geom  the_geom_webmercator  vendorid  \\\n",
      "0           1       NaN                   NaN         2   \n",
      "1           2       NaN                   NaN         2   \n",
      "2           3       NaN                   NaN         2   \n",
      "3           4       NaN                   NaN         2   \n",
      "4           5       NaN                   NaN         2   \n",
      "\n",
      "     tpep_pickup_datetime   tpep_dropoff_datetime  passenger_count  \\\n",
      "0  2015-04-27 15:16:29+00  2015-04-27 15:26:14+00                1   \n",
      "1  2015-04-27 15:16:29+00  2015-04-27 15:25:03+00                1   \n",
      "2  2015-04-27 15:16:29+00  2015-04-27 15:31:48+00                1   \n",
      "3  2015-04-27 15:16:29+00  2015-04-27 15:25:26+00                1   \n",
      "4  2015-04-27 15:16:29+00  2015-04-27 15:45:38+00                1   \n",
      "\n",
      "   trip_distance  pickup_longitude  pickup_latitude      ...       \\\n",
      "0           1.05        -73.988869        40.758396      ...        \n",
      "1           2.67        -74.008568        40.704479      ...        \n",
      "2           2.89        -73.994118        40.756432      ...        \n",
      "3           0.94        -73.974388        40.761665      ...        \n",
      "4           2.30        -73.972183        40.762726      ...        \n",
      "\n",
      "   dropoff_longitude dropoff_latitude  payment_type  fare_amount  extra  \\\n",
      "0         -73.984779        40.748272             2          7.5      0   \n",
      "1         -73.978271        40.720543             1         10.5      0   \n",
      "2         -73.993263        40.724442             1         12.5      0   \n",
      "3         -73.985542        40.756168             2          7.5      0   \n",
      "4         -73.990845        40.750671             2         17.5      0   \n",
      "\n",
      "   mta_tax  tip_amount  tolls_amount  improvement_surcharge  total_amount  \n",
      "0      0.5        0.00           0.0                    0.3          8.30  \n",
      "1      0.5        1.00           0.0                    0.3         12.30  \n",
      "2      0.5        3.32           0.0                    0.3         16.62  \n",
      "3      0.5        0.00           0.0                    0.3          8.30  \n",
      "4      0.5        0.00           0.0                    0.3         18.30  \n",
      "\n",
      "[5 rows x 22 columns]\n"
     ]
    }
   ],
   "source": [
    "import json\n",
    "import pandas as pd \n",
    "import requests\n",
    "import io\n",
    "\n",
    "cred = json.load(open('credentials.json')) # modify credentials.json.sample\n",
    "username = cred['username']\n",
    "api_key  = cred['api_key']\n",
    "\n",
    "tablename = 'yellow_tripdata_2015_04_verysmall'\n",
    "\n",
    "url = 'https://%s.carto.com/api/v2/sql?q=SELECT * FROM %s&format=csv' % (username , tablename)\n",
    "\n",
    "s  = requests.get(url).content\n",
    "df = pd.read_csv(io.StringIO(s.decode('utf-8')))\n",
    "\n",
    "print df.head(3)"
   ]
  },
  {
   "cell_type": "markdown",
   "metadata": {},
   "source": [
    "### Get columns for desired output"
   ]
  },
  {
   "cell_type": "code",
   "execution_count": 26,
   "metadata": {
    "collapsed": false
   },
   "outputs": [
    {
     "name": "stdout",
     "output_type": "stream",
     "text": [
      "   pickup_geoid  count\n",
      "0   36061000700      1\n",
      "1   36061004900      1\n",
      "2   36061008200      1\n",
      "3   36061010000      1\n",
      "4   36061010200      1\n",
      "5   36061011000      1\n",
      "6   36061011202      2\n",
      "7   36061011401      1\n",
      "8   36061011500      1\n",
      "9   36061011700      1\n"
     ]
    }
   ],
   "source": [
    "cols = []\n",
    "\n",
    "for i in df.columns:\n",
    "\tcols.append(i)\n",
    "\n",
    "del cols[:3] #delete cartodb_id, the_geom, the_geom_webmercator,\n",
    "cols = cols + ['geoid']    \n",
    "c = ', '.join(cols) #list of cols to keep to string for SQL statement\n",
    "    \n",
    "points = 'yellow_tripdata_2015_04_verysmall'\n",
    "poly   = 'tl_2014_census_tracts'    \n",
    "lat    = 'yellow_tripdata_2015_04_verysmall.pickup_latitude'\n",
    "lng    = 'yellow_tripdata_2015_04_verysmall.pickup_longitude'\n",
    "\n",
    "url = \"https://%s.carto.com/api/v2/sql?q=SELECT %s FROM %s, %s  WHERE ST_INTERSECTS(ST_SetSRID(ST_Point(%s, %s),4326), %s.the_geom)&format=csv\" % (username, c, points, poly, lng, lat, poly )\n",
    "\n",
    "s  = requests.get(url).content\n",
    "df = pd.read_csv(io.StringIO(s.decode('utf-8')))\n",
    "\n",
    "df = df.rename(columns=lambda x: x.replace('geoid', 'pickup_geoid'))\n",
    "\n",
    "dfp = df[['pickup_geoid']]\n",
    "dfp['count'] = 1\n",
    "dfp = dfp.groupby(['pickup_geoid'],as_index=False).sum()\n",
    "\n",
    "print dfp.head(3)\n",
    "\n",
    "if not os.path.exists('temp'): #create temp folder\n",
    "    os.makedirs('temp')\n",
    " \n",
    "dfp.to_csv('temp/pickup_geoid.csv', index=False)\n",
    "os.system('curl -v -F file=@temp/pickup_geoid.csv \"https://'+username+'.carto.com/api/v1/imports/?api_key=\"'+api_key)\n",
    "\n",
    "try:\n",
    "    shutil.rmtree('temp') #delete temp folder\n",
    "except:\n",
    "    raise"
   ]
  },
  {
   "cell_type": "code",
   "execution_count": 6,
   "metadata": {
    "collapsed": false
   },
   "outputs": [
    {
     "data": {
      "text/html": [
       "<iframe width=\"100%\" height=\"520\" frameborder=\"0\" src=\"index.html\" allowfullscreen webkitallowfullscreen mozallowfullscreen oallowfullscreen msallowfullscreen></iframe>"
      ],
      "text/plain": [
       "<IPython.core.display.HTML object>"
      ]
     },
     "metadata": {},
     "output_type": "display_data"
    }
   ],
   "source": [
    "from IPython.display import display, HTML\n",
    "display(HTML('<iframe width=\"100%\" height=\"520\" frameborder=\"0\" src=\"index.html\" allowfullscreen webkitallowfullscreen mozallowfullscreen oallowfullscreen msallowfullscreen></iframe>'))"
   ]
  },
  {
   "cell_type": "code",
   "execution_count": null,
   "metadata": {
    "collapsed": false
   },
   "outputs": [],
   "source": []
  },
  {
   "cell_type": "code",
   "execution_count": null,
   "metadata": {
    "collapsed": true
   },
   "outputs": [],
   "source": []
  }
 ],
 "metadata": {
  "kernelspec": {
   "display_name": "Python 2",
   "language": "python",
   "name": "python2"
  },
  "language_info": {
   "codemirror_mode": {
    "name": "ipython",
    "version": 2
   },
   "file_extension": ".py",
   "mimetype": "text/x-python",
   "name": "python",
   "nbconvert_exporter": "python",
   "pygments_lexer": "ipython2",
   "version": "2.7.10"
  }
 },
 "nbformat": 4,
 "nbformat_minor": 0
}
