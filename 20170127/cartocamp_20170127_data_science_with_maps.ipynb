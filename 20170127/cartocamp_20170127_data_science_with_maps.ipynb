{
 "cells": [
  {
   "cell_type": "code",
   "execution_count": null,
   "metadata": {
    "collapsed": true
   },
   "outputs": [],
   "source": []
  },
  {
   "cell_type": "markdown",
   "metadata": {},
   "source": [
    "### Create a Virtual Environment\n",
    "Create a folder in the current directory which will contain the Python executable files, and a copy of the pip library which you can use to install other packages. \n",
    "\n",
    "\t$ virtualenv env\n",
    "\n",
    "Activate Virtual Env.\n",
    "\n",
    "\t$ source env/bin/activate\n",
    "\t\n",
    "Install Pandas OR maybe add REQUIREMENTS.txt\n",
    "    \n",
    "    $ pip install pandas\n",
    "\t"
   ]
  },
  {
   "cell_type": "code",
   "execution_count": null,
   "metadata": {
    "collapsed": true
   },
   "outputs": [],
   "source": []
  }
 ],
 "metadata": {
  "kernelspec": {
   "display_name": "Python 2",
   "language": "python",
   "name": "python2"
  },
  "language_info": {
   "codemirror_mode": {
    "name": "ipython",
    "version": 2
   },
   "file_extension": ".py",
   "mimetype": "text/x-python",
   "name": "python",
   "nbconvert_exporter": "python",
   "pygments_lexer": "ipython2",
   "version": "2.7.8"
  }
 },
 "nbformat": 4,
 "nbformat_minor": 0
}
